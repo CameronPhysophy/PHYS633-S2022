{
  "cells": [
    {
      "cell_type": "markdown",
      "metadata": {
        "id": "view-in-github",
        "colab_type": "text"
      },
      "source": [
        "<a href=\"https://colab.research.google.com/github/veropetit/PHYS633-solutions/blob/main/L02-GravityField/02-GravityField-template.ipynb\" target=\"_parent\"><img src=\"https://colab.research.google.com/assets/colab-badge.svg\" alt=\"Open In Colab\"/></a>"
      ]
    },
    {
      "cell_type": "markdown",
      "metadata": {
        "id": "iP-1xWLtiick"
      },
      "source": [
        "# <font color='purple'>02-GravityField</font> (template)"
      ]
    },
    {
      "cell_type": "markdown",
      "source": [
        "## For reference: inserting images in Colab text files:\n",
        "\n",
        "\n"
      ],
      "metadata": {
        "id": "kEILE_6CtGNz"
      }
    },
    {
      "cell_type": "markdown",
      "source": [
        "There are two ways to insert images in markdown format in the text cells:\n",
        "\n",
        "Quick direct markdown format:\n",
        "```\n",
        "![](Image url)\n",
        "```\n",
        "or html codes which allows more formatting options\n",
        "\n",
        "```\n",
        "<img src=\"url\" width=\"500\"> \n",
        "\n",
        "```\n"
      ],
      "metadata": {
        "id": "NuuVGn-NwBKf"
      }
    },
    {
      "cell_type": "markdown",
      "source": [
        "### If the image is hosted on GitHub:"
      ],
      "metadata": {
        "id": "eAqXGikztYdx"
      }
    },
    {
      "cell_type": "markdown",
      "source": [
        "The link to the file on your GitHub will have this url (from the top bar):\n",
        "\n",
        "```\n",
        "https://github.com/veropetit/PHYS633-S2022/blob/main/L02-GravityField/02-datafile.jpeg\n",
        "```\n",
        "But to embed it, you will need to add `?raw=true` at the end of the url. \n",
        "```\n",
        "<img src=\"https://github.com/veropetit/PHYS633-S2022/blob/main/L02-GravityField/02-datafile.jpeg?raw=true\" width=\"500\"> \n",
        "```\n",
        "<img src=\"https://github.com/veropetit/PHYS633-S2022/blob/main/L02-GravityField/02-datafile.jpeg?raw=true\" width=\"100\"> "
      ],
      "metadata": {
        "id": "I32g5lcOtdfI"
      }
    },
    {
      "cell_type": "markdown",
      "source": [
        "### If the image is hosted on your Google Drive:"
      ],
      "metadata": {
        "id": "gAot44aPuzQc"
      }
    },
    {
      "cell_type": "markdown",
      "source": [
        "First you will need to get a sharable link from Google Drive (make sure that the link is 'viewable for everyone with the link'.\n",
        "\n",
        "For example, here's the sharable link to an image:\n",
        "```\n",
        "https://drive.google.com/file/d/1R3gkNN1z9mv7QYNmNlbFLcZL9h5tKhy7/view?usp=sharing\n",
        "```\n",
        "You will now need to change this link to embed the image. You need the part after the `file/d/` and before the `/view`, and put it in the link that has this format:\n",
        "```\n",
        "<img src=\"https://drive.google.com/uc?export=view&id=1R3gkNN1z9mv7QYNmNlbFLcZL9h5tKhy7\" width=\"100\">\n",
        "```\n",
        "<img src=\"https://drive.google.com/uc?export=view&id=1R3gkNN1z9mv7QYNmNlbFLcZL9h5tKhy7\" width=\"100\">\n",
        "\n",
        "\n"
      ],
      "metadata": {
        "id": "z3FBdXTgrXUy"
      }
    },
    {
      "cell_type": "markdown",
      "metadata": {
        "id": "27ry8Hfiiicp"
      },
      "source": [
        "## We start by importing the modules\n",
        "* Numpy -- operations on arrays and matrixes (and pi)\n",
        "* Matplotlib pyplot -- plotting library"
      ]
    },
    {
      "cell_type": "code",
      "execution_count": null,
      "metadata": {
        "collapsed": true,
        "id": "hhMbwm7Riicq"
      },
      "outputs": [],
      "source": [
        "import numpy as np\n",
        "\n",
        "import matplotlib.pyplot as plt\n",
        "%matplotlib inline \n",
        "# This option enables plots to be inline, \n",
        "# as opposed to opening in a separate window."
      ]
    },
    {
      "cell_type": "markdown",
      "metadata": {
        "id": "cb_5mrNOiics"
      },
      "source": [
        "## 1. We will make a plot of the enclosed mass ($M_r$) and the gravitational acceleration ($g$) as a function of position inside the star ($r$)."
      ]
    },
    {
      "cell_type": "markdown",
      "source": [
        "### a. In class"
      ],
      "metadata": {
        "id": "Vf-25cXl_-1L"
      }
    },
    {
      "cell_type": "markdown",
      "metadata": {
        "id": "1KQwmTM4iics"
      },
      "source": [
        "> <font color='blue'>Below I am showing you an example of a solution write-up for your notebook. As you can see, it is possible to type equations in latex, and include figure. I am also happy if you would like to include your digital handwritten solution (if you scan a paper, make sure it is clear and readable). In your write-up, I don't want to see the purely algebra steps, and you can directly give the solution of unit-less integrals (after all, this is what Wolfram Alpha is for!)</font>\n",
        "\n",
        "We know that the mass of a spherical shell of density $\\rho(r)$ will be $dM_r=4\\pi r^2 dr$. Therefore we can find the mass enclosed $M_r$ with this chain of equation:\n",
        "\n",
        "> <font color='blue'>(Note that you can insert a file in the markdown as described in the reference cell about images at the top of this notebook</font>)\n",
        "\n",
        "<img src=\"https://github.com/veropetit/PHYS633-S2022/blob/main/L02-GravityField/02-datafile.jpeg?raw=true\" width=\"500\"> \n",
        "\n",
        "We can then put equation 3 and 2 in equation 1 and isolate $M_r$, and pull out then density from the integral as it is constant with $r$, such that <font color='blue'>\n",
        "> (This is what I mean by \"I don't need to see the purely algebra steps\")</font>:\n",
        "\n",
        "$$ M_r = 4\\pi \\rho \\int_0^r  r^{'2} dr' $$\n",
        "\n",
        "$$ = 4\\pi \\rho  \\left[\\frac{r^{'3}}{3}\\right]_0^r = \\frac{4\\pi r^3 \\rho}{3}$$\n",
        "\n",
        "We can normalize by the total mass of the star, which can be thought of as $M_\\star = M_r(r=R_\\star) = 4\\pi\\rho R_\\star^3/3$\n",
        "\n",
        "Therefore:\n",
        "\n",
        "\n",
        "$$\\frac{M_r}{M_\\star} = \\left(\\frac{r}{R_\\star}\\right)^3,$$\n",
        "\n",
        "and\n",
        "\n",
        "$$ \\frac{g}{g_\\star} = \\frac{M_r}{M_\\star}\\left(\\frac{R_\\star}{r}\\right)^2 $$\n",
        "(with the latter valid for any density profile). "
      ]
    },
    {
      "cell_type": "markdown",
      "source": [
        "### b. At home"
      ],
      "metadata": {
        "id": "Uz_E6Fs9AnEs"
      }
    },
    {
      "cell_type": "markdown",
      "metadata": {
        "id": "7PHZKlHAiict"
      },
      "source": [
        "For our second plot, let's consider a density that varies like \n",
        "$$\\rho = \\rho_o \\left( 1-\\frac{r}{R_\\star} \\right),$$\n",
        "where $\\rho_o$ is a constant.\n",
        "\n",
        "> **TODO** <font color='red'>: Make the calculations below. Use Latex formatting to render the math, or attach a clear photo of your work (I give an example of what I am looking for in part a.)</font>\n",
        "> 1. Calculate and plot $M_r/M_\\star$, and $g/g_\\star$.\n",
        "> 2. Analytically find at which $r/R_\\star$ is $g$ at its maximum, and add a vertical line at this position.\n"
      ]
    },
    {
      "cell_type": "markdown",
      "source": [
        "### c. Code block for 1.a and 1.b\n",
        "\n",
        "> **TODO** <font color='red'>: Add a plot of $M_r/M_\\star$, and $g/g_\\star$ (that you calculated in part b.1 above), in the right-hand panel. Add a vertical line at the $r/R_\\star$ position at which $g$ is at its maximum.</font>"
      ],
      "metadata": {
        "id": "_mnvk_nBAxCl"
      }
    },
    {
      "cell_type": "code",
      "execution_count": null,
      "metadata": {
        "id": "9HJtqL43iicu",
        "outputId": "cb8d599f-71f0-4ffb-f77b-2b6e39037dd8",
        "colab": {
          "base_uri": "https://localhost:8080/",
          "height": 459
        }
      },
      "outputs": [
        {
          "output_type": "stream",
          "name": "stderr",
          "text": [
            "No handles with labels found to put in legend.\n",
            "No handles with labels found to put in legend.\n"
          ]
        },
        {
          "output_type": "display_data",
          "data": {
            "image/png": "[encoded data removed]",
            "text/plain": [
              "<Figure size 792x432 with 2 Axes>"
            ]
          },
          "metadata": {
            "needs_background": "light"
          }
        }
      ],
      "source": [
        "fig, ax = plt.subplots(1,2, figsize=(11,6))\n",
        "# The subplot routine creates a figure object (in the variable \"fig\"), which contains\n",
        "# and an array (here 2 plots) of plotting windows called \"axes\" (in the variable \"ax\")\n",
        "\n",
        "plt.rcParams.update({'font.size': 18})\n",
        "plt.rcParams.update({'font.family': 'Times New Roman'})\n",
        "# Set the font and font size for the whole figure.\n",
        "\n",
        "for item in ax:\n",
        "    item.set_xlabel(r'$r/R_\\star$') # the \"r\" is to say there is latex formatted strings.\n",
        "    item.set_xlim(0,1)\n",
        "    item.set_ylabel(r'$\\rho/\\rho_c, M_r/M_\\star, g/g_\\star$') \n",
        "    item.set_ylim(0,1.5)\n",
        "# ax is an vector of plot objects.\n",
        "# we use a loop to set the title and limits of all plots to the same values\n",
        "\n",
        "ax[0].set_title('Constant density')\n",
        "ax[1].set_title(r'$\\rho = \\rho_c(1- r/R_\\star)$')\n",
        "\n",
        "#-----------------------------------------------------\n",
        "#-----------------------------------------------------\n",
        "\n",
        "#-----------------------------------------------------\n",
        "# Part to do in class\n",
        "#----\n",
        "\n",
        "##################\n",
        "# constant density\n",
        "##################\n",
        "\n",
        "\n",
        "\n",
        "\n",
        "####################\n",
        "# Decreasing density at home\n",
        "####################\n",
        "\n",
        "\n",
        "\n",
        "\n",
        "#-----------------------------------------------------\n",
        "# At home, add the curves for the g(s). \n",
        "# Analytically find at which r/Rstar is g at its maximum, and add a vertical line at this position.\n",
        "#----\n",
        "\n",
        "\n",
        "\n",
        "\n",
        "\n",
        "#-----------------------------------------------------\n",
        "#-----------------------------------------------------\n",
        "#------------------------------------------------------\n",
        "for item in ax:\n",
        "    item.legend(loc=0, fontsize=15)\n",
        "plt.tight_layout()\n",
        "# arrange the plot nicely"
      ]
    },
    {
      "cell_type": "markdown",
      "metadata": {
        "collapsed": true,
        "id": "b5nqalGjiicw"
      },
      "source": [
        "> **TODO**: <font color='red'>Please write a small paragraph with an interpretation of the result obtained:</font>"
      ]
    },
    {
      "cell_type": "markdown",
      "source": [
        "## 2. Learning reflection "
      ],
      "metadata": {
        "id": "0RQPMdOTjSrb"
      }
    },
    {
      "cell_type": "markdown",
      "source": [
        "> **TODO**: <font color='red'>Please write a small reflection on what you have learned and why. \n",
        "> \n",
        "> Suggestions: how does this notebook provide practice for the learning goal of this lecture? how does this topic fits within the learning goals of this course (could be science and/or techniques!), and how does it relates to other things that you have learned in other courses? "
      ],
      "metadata": {
        "id": "HfYIeZ7wjaSo"
      }
    }
  ],
  "metadata": {
    "anaconda-cloud": {},
    "kernelspec": {
      "display_name": "Python 3",
      "name": "python3"
    },
    "language_info": {
      "name": "python"
    },
    "colab": {
      "name": "02-GravityField.ipynb",
      "provenance": [],
      "include_colab_link": true
    }
  },
  "nbformat": 4,
  "nbformat_minor": 0
}