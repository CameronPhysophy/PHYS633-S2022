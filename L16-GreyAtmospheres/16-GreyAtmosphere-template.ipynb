{
  "cells": [
    {
      "cell_type": "markdown",
      "source": [
        "# L16 GreyAtmosphere (template)"
      ],
      "metadata": {
        "id": "5Fj3pf9fmEOJ"
      }
    },
    {
      "cell_type": "markdown",
      "metadata": {
        "id": "cGv3DjHAl7lG"
      },
      "source": [
        "We start by importing the modules\n",
        "* Numpy -- operations on arrays and matrixes (and pi)\n",
        "* Matplotlib pyplot -- plotting library\n",
        "* Matplotlin patches -- module that enables patches in plots\n",
        "* Astropy units -- defined quantities with units. We also import the CDS conversions\n",
        "* **Scipy special** -- enable the use of the exponential integral function\n",
        "* **Astropy convolution** -- we will use this to smooth the spectrum of the sun"
      ]
    },
    {
      "cell_type": "code",
      "execution_count": 1,
      "metadata": {
        "id": "EUxBW5CQl7lL"
      },
      "outputs": [],
      "source": [
        "import numpy as np, copy\n",
        "import matplotlib.pyplot as plt\n",
        "%matplotlib inline\n",
        "from astropy import constants as const\n",
        "import astropy.units as u\n",
        "from astropy.units import cds\n",
        "cds.enable() \n",
        "\n",
        "from scipy.special import expn\n",
        "from astropy.convolution import convolve, Box1DKernel"
      ]
    },
    {
      "cell_type": "markdown",
      "metadata": {
        "id": "8BPpRusWl7lN"
      },
      "source": [
        "## 1. In class: Temperature structure of the Sun\n",
        "\n",
        "Here, I provide a file containing (among other things) the temperature structure of the atmosphere of the sun resulting from a detailed model of the Sun's atmosphere (numerical solution involving all 9 equations).\n",
        "\n",
        "We will compare this to the analytical estimate we obtained by making the approximation that the opacity ($\\kappa$) is \"grey\" (not dependent on wavelength). We also had to use one equation resulting from making a further approximation that the optical depth ($\\tau$) is large. \n",
        "\n",
        "So let's see how good/bad this approximation actually is!\n",
        "\n",
        "> **TODO**: In the text below, please write down the equation you are using for $T(\\tau)$ in latex format.\n",
        "\n",
        "> **TODO**: In the graph below, add a curve that shows the approximation for $T(\\tau)$ assuming that the correction factor $q(\\tau)=0.7104 - 0.133\\mathrm{e}^{-3.4488\\tau_z}$, why is the numerical value found by using the equation for $\\tilde{J}$ (in class last week). \n",
        "\n",
        "> **TODO**: In the graph below, add a curve that shows the approximation for $T(\\tau)$ assuming that the correction factor $q(\\tau)\\sim \\frac{2}{3}.$\n",
        "\n",
        "> **TODO**: don't forget to add axis labels and a legend to your graph."
      ]
    },
    {
      "cell_type": "code",
      "execution_count": 3,
      "metadata": {
        "id": "tph7T31sl7lN",
        "outputId": "01b545fe-9a82-4890-a3cc-4835e8f32127",
        "colab": {
          "base_uri": "https://localhost:8080/",
          "height": 342
        }
      },
      "outputs": [
        {
          "output_type": "execute_result",
          "data": {
            "text/plain": [
              "<matplotlib.legend.Legend at 0x7fef3f949450>"
            ]
          },
          "metadata": {},
          "execution_count": 3
        },
        {
          "output_type": "display_data",
          "data": {
            "text/plain": [
              "<Figure size 432x360 with 1 Axes>"
            ],
            "image/png": "[encoded data removed]"
          },
          "metadata": {
            "needs_background": "light"
          }
        }
      ],
      "source": [
        "file_url = \"https://raw.githubusercontent.com/veropetit/PHYS633-S2022/main/L16-GreyAtmospheres/16-sun_model.txt\"\n",
        "data = np.genfromtxt(file_url, skip_header=24, skip_footer=229, usecols=(1,2,4), names=True)\n",
        "\n",
        "fig, ax = plt.subplots(1,1, figsize=(6,5))\n",
        "ax.set_xlim(0,2)\n",
        "ax.set_ylim(4500,7000)\n",
        "\n",
        "ax.plot(10**data['lgTauR'], data['T'], label='Sun', lw=7, c=\"0.75\")\n",
        "\n",
        "#---------------------------------------\n",
        "#---------------------------------------\n",
        "# In class\n",
        "\n",
        "# Define the effective temperature used for the solar model\n",
        "Teff = 5777.0\n",
        "\n",
        "\n",
        "\n",
        "\n",
        "#------------------------\n",
        "#------------------------\n",
        "ax.legend(loc=0)"
      ]
    },
    {
      "cell_type": "markdown",
      "source": [
        "> **TODO**: <font color='red'>Please write a small paragraph with an interpretation of the result obtained:</font>"
      ],
      "metadata": {
        "id": "uZmXE2UWpthl"
      }
    },
    {
      "cell_type": "markdown",
      "metadata": {
        "id": "5c8dhUMol7lP"
      },
      "source": [
        "## 2. Provided function: Calculation of the $C(\\alpha, \\tau)$ function\n",
        "\n",
        "We can express the specific flux in a grey atmophere as \n",
        "$$F_\\alpha(\\tau) = \\frac{4\\pi k^4T_\\mathrm{eff}^4}{c^2 h^3} \\alpha^3 \\left[ \\int_{\\tau'=\\tau}^\\infty \\frac{E_2(t-\\tau)d\\tau'}{e^{\\alpha p(\\tau')}-1} - \\int_{\\tau'=0}^\\tau \\frac{E_2(\\tau-\\tau')d\\tau'}{e^{\\alpha p(\\tau')}-1} \\right],$$\n",
        "where the term in brackets is $C(\\alpha, \\tau)$, and $\\alpha=hc/\\lambda kT_\\mathrm{eff}$ and $p(\\tau)=T_\\mathrm{eff}/T(\\tau)$. \n",
        "\n",
        "The function below accepts a single value of $\\alpha$ and a single value of $\\tau$. It returns the value of $C(\\alpha, \\tau)$ **(The quantity in brackets)**."
      ]
    },
    {
      "cell_type": "code",
      "execution_count": 4,
      "metadata": {
        "id": "yN_8c2D2l7lQ"
      },
      "outputs": [],
      "source": [
        "def p_function(tau):\n",
        "    \n",
        "    q = 0.7104 - 0.133*np.exp(-1*3.4488*tau)\n",
        "    p = 1.0 / ( 0.75 * (tau + q))**0.25\n",
        "    return(p)\n",
        "\n",
        "def c_function(alpha, tau):\n",
        "    \n",
        "    # create values of t for the integration\n",
        "    tau_prime_low = np.linspace(0,tau, 1000)\n",
        "    tau_prime_high = np.linspace(tau, 20, 1000)\n",
        "    \n",
        "    # Do the first integral\n",
        "    y = expn(2, tau_prime_high - tau) / ( np.exp( p_function(tau_prime_high) * alpha)-1 )\n",
        "\n",
        "    int_high = np.trapz( y, tau_prime_high)\n",
        "    \n",
        "    y = expn(2, tau - tau_prime_low) / (np.exp( p_function(tau_prime_low) * alpha)-1 )\n",
        "    int_low = np.trapz( y, tau_prime_low)\n",
        "    \n",
        "    C = int_high - int_low\n",
        "    \n",
        "    return(C)\n"
      ]
    },
    {
      "cell_type": "markdown",
      "metadata": {
        "id": "C5L6jEIrl7lR"
      },
      "source": [
        "## 3. Let's compare the grey flux with the real solar flux\n",
        "\n",
        "In the plot below, I give you a solar spectrum, calculated with detailed stellar atmosphere models. The wavelength axis is in nm, and the units of flux are erg/s/cm2/nm. \n",
        "\n",
        "> **TODO**: a. In the class worksheet, we found that $F_\\alpha / \\tilde{F}$ can be expressed as\n",
        "$$ \\frac{F_\\alpha(\\tau)}{\\tilde{F}} = \\frac{30}{\\pi^4} \\alpha^3 C(\\alpha, \\tau).$$\n",
        ">\n",
        "> Use the function provided above for $C(\\alpha, \\tau)$ above to calculate and plot the flux predicted by the Grey atmosphere model. Note: I highly suggests that you make use of the astropy unit and constant packages. Note that when passing an $\\alpha$ to the `c_function(alpha, tau)`, make sure to `alpha.decompose()` and then pass alpha.value to the function.  \n",
        ">\n",
        ">Make sure to interpret the result in the interpretation box.\n",
        "\n",
        "> **TODO**: b. You certainly used $\\tau=0$ to calculate the observed spectra. However our grey model allows us to calculate the flux at any optical depth. Add curves for tau = 0.5, 1, and 1.5. Make sure to interpret the result in the interpretation box.\n",
        "\n",
        "\n",
        "> **TODO** c. When we made an approximation of a linear source function (e.g. when we looked at Limb-darkening), we found that $ F_\\lambda(\\tau_\\lambda=0) \\sim \\pi S_\\lambda(\\tau_\\lambda=2/3)$.\n",
        "Using our expression for the grey temperature structure of the atmosphere, find $T(\\tau=2/3)$, and using $S_\\lambda = B_\\lambda$, add a curve for the predicted observed $F_\\lambda$ in this approximation. Is it better or worse than our grey atmosphere calculation?"
      ]
    },
    {
      "cell_type": "code",
      "execution_count": 6,
      "metadata": {
        "id": "kb0oNXPQl7lS",
        "outputId": "30bf7ea2-4ab3-4a39-9a29-5cc04d42d66b",
        "colab": {
          "base_uri": "https://localhost:8080/",
          "height": 380
        }
      },
      "outputs": [
        {
          "output_type": "stream",
          "name": "stderr",
          "text": [
            "No handles with labels found to put in legend.\n"
          ]
        },
        {
          "output_type": "execute_result",
          "data": {
            "text/plain": [
              "<matplotlib.legend.Legend at 0x7fef3f4abe90>"
            ]
          },
          "metadata": {},
          "execution_count": 6
        },
        {
          "output_type": "display_data",
          "data": {
            "text/plain": [
              "<Figure size 720x360 with 1 Axes>"
            ],
            "image/png": "[encoded data removed]"
          },
          "metadata": {
            "needs_background": "light"
          }
        }
      ],
      "source": [
        "fig, ax = plt.subplots(1,1, figsize=(10,5))\n",
        "ax.set_xlim(0,2000)\n",
        "\n",
        "ax.set_ylabel(r'Flux (erg s$^{-1}$ cm$^{-2}$ nm$^{-1}$)')\n",
        "ax.set_xlabel('Wavelength (nm)')\n",
        "\n",
        "# Loading a solar flux model from the MARCS stellar atmosphere models\n",
        "file_url=\"https://raw.githubusercontent.com/veropetit/PHYS633-S2022/main/L16-GreyAtmospheres/16-sun_wave.txt\"\n",
        "wave_sun = np.genfromtxt(file_url)\n",
        "wave_sun = wave_sun/10*u.nm # Change the wavelength in nm\n",
        "\n",
        "file_url=\"https://raw.githubusercontent.com/veropetit/PHYS633-S2022/main/L16-GreyAtmospheres/16-sun_flux.txt\"\n",
        "flux_sun = np.genfromtxt(file_url)\n",
        "flux_sun = flux_sun * u.erg/u.s/u.cm**2/u.nm * 10 # * 10 to go from /A to /nm.\n",
        "\n",
        "ax.plot( wave_sun, convolve(flux_sun, Box1DKernel(31)), c=\"0.75\" )\n",
        "\n",
        "\n",
        "#--------------------------------\n",
        "# At home\n",
        "\n",
        "Teff = 5777*u.K # This is the effective temperature of the model\n",
        "\n",
        "# I am giving your an array of wavelenght in nm to get you started.\n",
        "wave = np.linspace(1,2000, 1000)*u.nm \n",
        "\n",
        "# I suggest the following procedure:\n",
        "# 1. find the alpha corresponding to the wavelength\n",
        "# 2. find F_alpha/F (you'll need a loop, as the \n",
        "#    c_function(alpha, tau) does not accept arrays.\n",
        "# 3. convert F_alpha/F to F_lambda/F :)\n",
        "# 4. multiply by F and make sure the units are right\n",
        "\n",
        "\n",
        "\n",
        "#------------------------\n",
        "ax.legend()"
      ]
    },
    {
      "cell_type": "markdown",
      "source": [
        "> **TODO**: <font color='red'>Please write a small paragraph with an interpretation of the result obtained:</font>"
      ],
      "metadata": {
        "id": "CiTy_AEkiBXs"
      }
    },
    {
      "cell_type": "markdown",
      "source": [
        "> **TODO**: <font color='red'>Please write a small reflection on what you have learned and why, since out last notebook. </font>\n",
        "> \n",
        "> Suggestions: how does this notebook provide practice for the learning goal of the last few lectures? how does this topic fits within the learning goals of this course (could be science and/or techniques!), and how does it relates to other things that you have learned in other courses? "
      ],
      "metadata": {
        "id": "aNO1N1RiiiRE"
      }
    },
    {
      "cell_type": "code",
      "source": [
        ""
      ],
      "metadata": {
        "id": "jFBRPxAlioU9"
      },
      "execution_count": null,
      "outputs": []
    }
  ],
  "metadata": {
    "anaconda-cloud": {},
    "kernelspec": {
      "display_name": "Python 3",
      "name": "python3"
    },
    "language_info": {
      "name": "python"
    },
    "colab": {
      "name": "16-GreyAtmosphere.ipynb",
      "provenance": [],
      "collapsed_sections": []
    }
  },
  "nbformat": 4,
  "nbformat_minor": 0
}