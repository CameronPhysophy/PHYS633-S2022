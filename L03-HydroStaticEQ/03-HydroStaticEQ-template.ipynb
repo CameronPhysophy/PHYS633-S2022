{
  "cells": [
    {
      "cell_type": "markdown",
      "metadata": {
        "id": "view-in-github",
        "colab_type": "text"
      },
      "source": [
        "<a href=\"https://colab.research.google.com/github/veropetit/PHYS633-S2022/blob/main/L03-HydroStaticEQ/03-HydroStaticEQ-template.ipynb\" target=\"_parent\"><img src=\"https://colab.research.google.com/assets/colab-badge.svg\" alt=\"Open In Colab\"/></a>"
      ]
    },
    {
      "cell_type": "markdown",
      "metadata": {
        "id": "EyDKwHi25Vk8"
      },
      "source": [
        "# <font color='purple'>03-HydroStaticEQ</font>"
      ]
    },
    {
      "cell_type": "markdown",
      "metadata": {
        "id": "6G4RIvrF5VlB"
      },
      "source": [
        "## 0. We start by importing the modules\n",
        "* Numpy -- operations on arrays and matrixes (and pi)\n",
        "* Matplotlib pyplot -- plotting library\n",
        "* Astropy units -- defined quantities with units. We also import the CDS conversions"
      ]
    },
    {
      "cell_type": "code",
      "execution_count": null,
      "metadata": {
        "colab": {
          "base_uri": "https://localhost:8080/"
        },
        "id": "QK8b47mG5VlC",
        "outputId": "8d02261b-eaae-44ee-919d-3107b4104aec"
      },
      "outputs": [
        {
          "output_type": "execute_result",
          "data": {
            "text/plain": [
              "<astropy.units.core._UnitContext at 0x7f1c18ca3950>"
            ]
          },
          "metadata": {},
          "execution_count": 1
        }
      ],
      "source": [
        "import numpy as np\n",
        "\n",
        "import matplotlib.pyplot as plt\n",
        "%matplotlib inline \n",
        "# This option enables plots to be inline, \n",
        "# as opposed to opening in a separate window.\n",
        "\n",
        "from astropy import constants as const\n",
        "import astropy.units as u\n",
        "from astropy.units import cds\n",
        "cds.enable() "
      ]
    },
    {
      "cell_type": "markdown",
      "metadata": {
        "id": "ONAmOeQ_5VlE"
      },
      "source": [
        "## 1. Solving the equation of hydrostatic equilibium with known density."
      ]
    },
    {
      "cell_type": "markdown",
      "metadata": {
        "id": "hLJm9D9p5VlF"
      },
      "source": [
        "### a. In class: the constant density case \n",
        "\n",
        "For a density that is constant inside of the star, we found that \n",
        "$$\\frac{P(r)}{P_o} = \\left[ 1 - \\left(\\frac{r}{R_\\star}\\right)^2\\right],$$\n",
        "where $P_o$ is the pressure at the center ($r=0$)\n",
        "\n",
        "We will add this curve to the graph of $P(r)/P_c$ versus $r/R_\\star$ below.\n",
        "\n",
        "\n",
        "### b. At home: the decreasing density case\n",
        "\n",
        "Now let's consider a density that varies as\n",
        "$$\\rho = \\rho_o\\left(1-\\frac{r}{R_\\star}\\right),$$ \n",
        "as we did for the previous notebook L02. \n",
        "\n",
        "follow the same procedure to find $\\frac{P(r)}{P_o}$, and add it to the plot below.\n",
        "\n",
        "> **TODO** <font color='red'>: follow the same procedure to find $\\frac{P(r)}{P_o}$ for the decreasing density case. Write your solution below. This means starting from the HS differential equation, but you can use results from notebook L02. Transform your integral to a unitless-form before performing the integration. Use Latex formatting to render the math (or enter a clear photo of your work -- see notebook L02)</font>\n",
        "\n",
        "\n",
        "\n",
        "> **TODO** <font color='red'>: Add this curve to the graph below, with a label in the legend.</font>"
      ]
    },
    {
      "cell_type": "code",
      "execution_count": null,
      "metadata": {
        "colab": {
          "base_uri": "https://localhost:8080/",
          "height": 441
        },
        "id": "s5vcR7S35VlF",
        "outputId": "2c74e53e-61fe-4362-97be-d56bfbe26d08"
      },
      "outputs": [
        {
          "output_type": "stream",
          "name": "stderr",
          "text": [
            "No handles with labels found to put in legend.\n"
          ]
        },
        {
          "output_type": "display_data",
          "data": {
            "image/png": "[encoded data removed]",
            "text/plain": [
              "<Figure size 432x432 with 1 Axes>"
            ]
          },
          "metadata": {
            "needs_background": "light"
          }
        }
      ],
      "source": [
        "fig, ax = plt.subplots(1,1, figsize=(6,6))\n",
        "# The subplot routine creates a figure object (in the variable \"fig\"), which contains\n",
        "# here a single plotting window called \"axes\" (in the variable \"ax\")\n",
        "plt.rcParams.update({'font.size': 18})\n",
        "plt.rcParams.update({'font.family': 'Times New Roman'})\n",
        "# Set the font and font size for the whole figure.\n",
        "\n",
        "ax.set_xlabel(r'$r/R_\\star$') # the \"r\" is to say there is latex formatted strings.\n",
        "ax.set_xlim(0,1)\n",
        "\n",
        "ax.set_ylabel(r'$P/P_c$') \n",
        "\n",
        "#-------------------------------------------------------\n",
        "# In class\n",
        "\n",
        "# define an array of r / Rs, from 0 to 1, with 100 elements\n",
        "\n",
        "\n",
        "# For constant density\n",
        "\n",
        "\n",
        "\n",
        "\n",
        "\n",
        "#-------------------------------------------------------\n",
        "# For linearly decreasing density (portfolio)\n",
        "# At home\n",
        "\n",
        "\n",
        "\n",
        "#-------------------------------------------------------\n",
        "ax.legend(loc=0, fontsize=15)\n",
        "plt.tight_layout()\n",
        "# arrange the plot nicely"
      ]
    },
    {
      "cell_type": "markdown",
      "metadata": {
        "id": "wD6mpTmn5VlH"
      },
      "source": [
        "> **TODO**: <font color='red'>Please write a small paragraph with an interpretation of the result obtained:</font>"
      ]
    },
    {
      "cell_type": "markdown",
      "metadata": {
        "id": "TTbcIkij5VlH"
      },
      "source": [
        "## 2. Now we would like to calculate the numerical value of the central pressure for a star of $1M_\\odot$ and $1R_\\odot$.\n",
        "\n",
        "To give an idea, the values of density and pressure at the center of the Sun from sophisticated models are 165 g/cm$^3$ and $2.5\\times10^{17} \\mathrm{dyn / cm}^2$, respectively."
      ]
    },
    {
      "cell_type": "markdown",
      "metadata": {
        "id": "zoJvQIQF5VlI"
      },
      "source": [
        "### a. In class: the constant density case\n",
        "\n",
        "We know that\n",
        "$$M_\\star = \\frac{4\\pi R_\\star^3}{3} \\rho_o.$$\n",
        "Therefore the density is\n",
        "$$\\rho_o = M_\\star \\frac{3}{4\\pi R_\\star^3}.$$\n",
        "\n",
        "The central pressure is \n",
        "$$\\frac{1}{2} \\rho_o g_\\star R_\\star,$$\n",
        "\n",
        "where the surface acceleration $g_\\star = GM_\\star / R_\\star^2$."
      ]
    },
    {
      "cell_type": "code",
      "execution_count": null,
      "metadata": {
        "id": "fKOaSev_5VlJ"
      },
      "outputs": [],
      "source": [
        "############\n",
        "# In class\n",
        "############\n",
        "\n",
        "# Let's start with a demo on how to use the unit capabilities of astropy\n",
        "\n"
      ]
    },
    {
      "cell_type": "markdown",
      "metadata": {
        "id": "TNEFqf5h5VlK"
      },
      "source": [
        "> **TODO**: <font color='red'>Please write a small paragraph with an interpretation of the result obtained:</font>"
      ]
    },
    {
      "cell_type": "markdown",
      "metadata": {
        "id": "m5yy9_Nd5VlK"
      },
      "source": [
        "### b. At home: the linearly decreasing density case\n",
        "\n",
        "> **TODO**: <font color='red'>Now, you will derive expressions for the central density and central pressure (following the procedure above) for the case where we take the density to be $\\rho = \\rho_c\\left(1-\\frac{r}{R_\\star}\\right)$. Write your solution below in latex to render the math (or upload a clear photo of your work on paper). You can refer to results (scaled equations) from your previous notebooks.</font>\n",
        "\n"
      ]
    },
    {
      "cell_type": "markdown",
      "source": [
        "> **TODO**: <font color='red'>In the code cell below, use the astropy constant and unit packages to calculate the numerical values of the central density and central pressure for the decreasing density case. Make sure that the units are in the cgs pressure units, and that your 'print' statements include a label in front of the value.</font>"
      ],
      "metadata": {
        "id": "8DnWE9kcoYDq"
      }
    },
    {
      "cell_type": "code",
      "execution_count": null,
      "metadata": {
        "id": "8_xgeyf45VlK"
      },
      "outputs": [],
      "source": [
        "#################\n",
        "# At home\n",
        "#################\n",
        "\n"
      ]
    },
    {
      "cell_type": "markdown",
      "metadata": {
        "collapsed": true,
        "id": "TC9Q9Hk65VlL"
      },
      "source": [
        "> **TODO**: <font color='red'>Please write a small paragraph with an interpretation of the result obtained:</font>"
      ]
    },
    {
      "cell_type": "markdown",
      "source": [
        "## 3. Reading assignement: \"what can we measure about stars\" -- part 2\n",
        "\n",
        "In this graduate course, we are making an advanced physical and mathematical model of star. \n",
        "\n",
        "But it is still good to learn and/or remind ourselves about which physical characteristics of stars we can actually measure. You might have covered some of this in some details in previous physics or astro courses (at UD PHYS 133, 144, 333, or 469) -- but it is still a good idea to have a quick look at the suggested reading below before crafting your paragraph. \n",
        "\n",
        "One other thing that can be measured is the **distance** to a star."
      ],
      "metadata": {
        "id": "T2To58qWpM6q"
      }
    },
    {
      "cell_type": "markdown",
      "source": [
        "> **TODO**: <font color='red'>Have a look at section 19.2 \"Celestial Distances > Surveying the Stars\" of the Open Stack Astronomy online [textbook](https://openstax.org/books/astronomy/pages/5-2-the-electromagnetic-spectrum), and write a short conceptual paragraph about how astronomer can determine the distance to (nearby) stars. </font>\n",
        "You might also find is interesting to have a quick look at the GAIA space mission: https://sci.esa.int/web/gaia/-/28820-summary"
      ],
      "metadata": {
        "id": "LUumpJRZpxjP"
      }
    },
    {
      "cell_type": "code",
      "execution_count": null,
      "metadata": {
        "collapsed": true,
        "id": "zZZxaA-q5VlL"
      },
      "outputs": [],
      "source": [
        ""
      ]
    }
  ],
  "metadata": {
    "kernelspec": {
      "display_name": "Python 3",
      "name": "python3"
    },
    "language_info": {
      "name": "python"
    },
    "colab": {
      "name": "03-HydroStaticEQ.ipynb",
      "provenance": [],
      "include_colab_link": true
    }
  },
  "nbformat": 4,
  "nbformat_minor": 0
}