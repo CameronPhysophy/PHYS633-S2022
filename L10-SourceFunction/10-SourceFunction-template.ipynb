{
  "cells": [
    {
      "cell_type": "markdown",
      "metadata": {
        "id": "view-in-github",
        "colab_type": "text"
      },
      "source": [
        "<a href=\"https://colab.research.google.com/github/veropetit/PHYS633-S2022/blob/main/L10-SourceFunction/10-SourceFunction-template.ipynb\" target=\"_parent\"><img src=\"https://colab.research.google.com/assets/colab-badge.svg\" alt=\"Open In Colab\"/></a>"
      ]
    },
    {
      "cell_type": "markdown",
      "metadata": {
        "id": "WvAiN_h8R4q8"
      },
      "source": [
        "# <font color=\"purple\">10-SourceFunction</font> (template)"
      ]
    },
    {
      "cell_type": "markdown",
      "metadata": {
        "id": "71CpmbTCR4rA"
      },
      "source": [
        "We start by importing the modules\n",
        "* Numpy -- operations on arrays and matrixes (and pi)\n",
        "* Matplotlib pyplot -- plotting library\n",
        "* Matplotlin patches -- module that enables patches in plots\n",
        "* Astropy units -- defined quantities with units. We also import the CDS conversions"
      ]
    },
    {
      "cell_type": "code",
      "execution_count": null,
      "metadata": {
        "id": "fG7jhZI3R4rB",
        "outputId": "dfe83f21-09b1-487d-e97f-0931940fc54c",
        "colab": {
          "base_uri": "https://localhost:8080/"
        }
      },
      "outputs": [
        {
          "output_type": "execute_result",
          "data": {
            "text/plain": [
              "<astropy.units.core._UnitContext at 0x7f2c9f482c90>"
            ]
          },
          "metadata": {},
          "execution_count": 1
        }
      ],
      "source": [
        "import numpy as np\n",
        "\n",
        "import matplotlib.pyplot as plt\n",
        "import matplotlib.patches as mpatches\n",
        "%matplotlib inline \n",
        "\n",
        "from astropy import constants as const\n",
        "import astropy.units as u\n",
        "from astropy.units import cds\n",
        "cds.enable()"
      ]
    },
    {
      "cell_type": "markdown",
      "metadata": {
        "id": "TmhDzkYgR4rD"
      },
      "source": [
        "## 0. To execute: Below is the function that creates a gradiant of color between two curves, according to a certain function."
      ]
    },
    {
      "cell_type": "code",
      "execution_count": null,
      "metadata": {
        "collapsed": true,
        "id": "0QYeZuJcR4rE"
      },
      "outputs": [],
      "source": [
        "def rect(ax,x,y,w,h,c):\n",
        "    #ax = plt.gca()\n",
        "    polygon = plt.Rectangle((x,y),w,h,color=c)\n",
        "    ax.add_patch(polygon)\n",
        "\n",
        "def rainbow_fill_between(ax, X, Y1, Y2, colors=None, \n",
        "                         cmap=plt.get_cmap(\"Reds\"),**kwargs):\n",
        "    plt.plot(X,Y1,lw=0)  # Plot so the axes scale correctly\n",
        "\n",
        "    dx = X[1]-X[0]\n",
        "    N  = X.size\n",
        "\n",
        "    #Pad a float or int to same size as x\n",
        "    if (type(Y2) is float or type(Y2) is int):\n",
        "        Y2 = np.array([Y2]*N)\n",
        "\n",
        "    #No colors -- specify linear\n",
        "    if colors is None:\n",
        "        colors = []\n",
        "        for n in range(N):\n",
        "            colors.append(cmap(n/float(N)))\n",
        "    #Varying only in x\n",
        "    elif len(colors.shape) is 1:\n",
        "        colors = cmap((colors-colors.min())\n",
        "                      /(colors.max()-colors.min()))\n",
        "    #Varying only in x and y\n",
        "    else:\n",
        "        cnp = np.array(colors)\n",
        "        colors = np.empty([colors.shape[0],colors.shape[1],4])\n",
        "        for i in range(colors.shape[0]):\n",
        "            for j in range(colors.shape[1]):\n",
        "                colors[i,j,:] = cmap((cnp[i,j]-cnp[:,:].min())\n",
        "                                    /(cnp[:,:].max()-cnp[:,:].min()))\n",
        "\n",
        "    colors = np.array(colors)\n",
        "\n",
        "    #Create the patch objects\n",
        "    for (color,x,y1,y2) in zip(colors,X,Y1,Y2):\n",
        "        rect(ax,x,y2,dx,y1-y2,color,**kwargs)"
      ]
    },
    {
      "cell_type": "markdown",
      "metadata": {
        "id": "kgrxMWCCR4rF"
      },
      "source": [
        "## 1. First, let's consider a case where there is only emission.\n",
        "\n",
        "* The lenght of the slab is 4 length units. \n"
      ]
    },
    {
      "cell_type": "markdown",
      "source": [
        "### a. The properties of the material are constant $\\rho(s)=\\rho_o$ and $j(s)=j_o$.\n",
        "* The product of the emission coefficient and the density give an intensity of 0.25 per unit of length. \n",
        ">**TODO**: start from $dI=...$ find an equation for $I(s)$ and show your work below. Add a curve for $I(s)$ in the graph below."
      ],
      "metadata": {
        "id": "s8M841z_TFN9"
      }
    },
    {
      "cell_type": "code",
      "execution_count": null,
      "metadata": {
        "id": "6SNlS0l6R4rF",
        "outputId": "1167b103-60bf-4faf-ac74-33ce4a98dc3b",
        "colab": {
          "base_uri": "https://localhost:8080/",
          "height": 301
        }
      },
      "outputs": [
        {
          "output_type": "execute_result",
          "data": {
            "text/plain": [
              "Text(0, 0.5, '$I(s)$')"
            ]
          },
          "metadata": {},
          "execution_count": 4
        },
        {
          "output_type": "stream",
          "name": "stderr",
          "text": [
            "findfont: Font family ['Times New Roman'] not found. Falling back to DejaVu Sans.\n"
          ]
        },
        {
          "output_type": "display_data",
          "data": {
            "image/png": "[encoded data removed]",
            "text/plain": [
              "<Figure size 648x288 with 1 Axes>"
            ]
          },
          "metadata": {
            "needs_background": "light"
          }
        }
      ],
      "source": [
        "fig, ax = plt.subplots(1,1, figsize=(9,4))\n",
        "plt.rcParams.update({'font.size': 14})\n",
        "plt.rcParams.update({'font.family': 'Times New Roman'})\n",
        "\n",
        "ax.set_ylim(0, 1.2)\n",
        "ax.set_xlim(-1,5)\n",
        "\n",
        "# For the first graph, I want a patch with constant color\n",
        "cmap = plt.cm.get_cmap('Reds') # get a red scale color map\n",
        "rgba = cmap(0.5) # pick the color in the center of the color map\n",
        "rec = mpatches.Rectangle( (0, 0), 4 , 1.2, fc=rgba) # Create a shaded rectangle\n",
        "ax.add_patch(rec) # add the rectangle to the plot\n",
        "ax.text(5.2, 0.5, 'Observer is here', style='italic',\n",
        "        bbox={'facecolor':'red', 'pad':5})\n",
        "\n",
        "ax.set_xlabel('$s$')\n",
        "ax.set_ylabel('$I(s)$')\n",
        "\n",
        "#---------------------------------------\n",
        "#---------------------------------------\n",
        "# At home\n",
        "\n",
        "\n",
        "\n"
      ]
    },
    {
      "cell_type": "markdown",
      "metadata": {
        "id": "3n2l5jh3R4rH"
      },
      "source": [
        "> **TODO**: <font color='red'>Please write a small paragraph with an interpretation of the result obtained:</font>\n",
        "\n"
      ]
    },
    {
      "cell_type": "markdown",
      "metadata": {
        "id": "-W27S5WNR4rH"
      },
      "source": [
        "### b. Now consider the emission inside a slab with density varying such that:\n",
        "\n",
        "$$ \\rho(s) = \\rho_o \\left( 1- \\frac{s}{d} \\right) $$\n",
        "and for which the emiisivity is still constant $j(s)=j_o$.\n",
        "\n",
        ">**TODO**:\n",
        ">\n",
        "> a. Find an expression for the intensity $I(s)$ everywhere in the slab and show your work below\n",
        ">\n",
        "> b. Analytically, find what the value of $\\rho_o j_o$ has to be for the final intensity to be the same than that of #1a. Show your work below.\n",
        ">\n",
        "> c. Add a curve for $I(s)$ to the graph below. "
      ]
    },
    {
      "cell_type": "code",
      "execution_count": null,
      "metadata": {
        "id": "wfYSoPExR4rI",
        "outputId": "cbe95fd5-c178-457e-f1a2-bf14f747429b",
        "colab": {
          "base_uri": "https://localhost:8080/",
          "height": 292
        }
      },
      "outputs": [
        {
          "output_type": "execute_result",
          "data": {
            "text/plain": [
              "Text(5.2, 0.5, 'Observer is here')"
            ]
          },
          "metadata": {},
          "execution_count": 5
        },
        {
          "output_type": "stream",
          "name": "stderr",
          "text": [
            "findfont: Font family ['Times New Roman'] not found. Falling back to DejaVu Sans.\n"
          ]
        },
        {
          "output_type": "display_data",
          "data": {
            "image/png": "[encoded data removed]",
            "text/plain": [
              "<Figure size 648x288 with 1 Axes>"
            ]
          },
          "metadata": {
            "needs_background": "light"
          }
        }
      ],
      "source": [
        "fig, ax = plt.subplots(1,1, figsize=(9,4))\n",
        "plt.rcParams.update({'font.size': 14})\n",
        "plt.rcParams.update({'font.family': 'Times New Roman'})\n",
        "\n",
        "\n",
        "ax.set_ylim(0, 1.2)\n",
        "ax.set_xlim(-1,5)\n",
        "\n",
        "# Create a patch with a gradient to illustrate\n",
        "# the change in density\n",
        "X=np.linspace(0,4,100)\n",
        "Y1=np.copy(X)*0\n",
        "Y2=np.copy(X)*0+4\n",
        "g = 1.0-np.copy(X/4)\n",
        "rainbow_fill_between(ax,X,Y1,Y2,colors=g)\n",
        "ax.text(5.2, 0.5, 'Observer is here', style='italic',\n",
        "        bbox={'facecolor':'red', 'pad':5})\n",
        "\n",
        "#---------------------------------------\n",
        "#---------------------------------------\n",
        "# At home\n",
        "\n"
      ]
    },
    {
      "cell_type": "markdown",
      "metadata": {
        "id": "a1H-lGH-R4rJ"
      },
      "source": [
        "**TODO**: <font color='red'>Please write a small paragraph with an interpretation of the result obtained:</font>\n"
      ]
    },
    {
      "cell_type": "markdown",
      "metadata": {
        "collapsed": true,
        "id": "LX5OkaDfR4rJ"
      },
      "source": [
        "## 2. Now let's look at the case where there is both absorption and emission. \n",
        "\n",
        "In class, we found the 'formal solution' of RT to be:\n",
        "$$I(\\tau) ~~=~~ ~ I_o\\mathrm{e}^{\\tau-\\tau_o} ~+~ \\int_{\\tau'=\\tau_o}^{\\tau'=\\tau} S(\\tau')~ \\mathrm{e}^{\\tau-\\tau'}d\\tau'$$"
      ]
    },
    {
      "cell_type": "markdown",
      "source": [
        "### a. Constant source function ($S(\\tau)=So$)\n",
        "\n",
        "In this case, the , the formal solution can be written as:\n",
        "$$I(s) ~~=~~ ~ I_o\\mathrm{e}^{\\tau(s)-\\tau_o} ~+~ S_o\\left[1-\\mathrm{e}^{\\tau(s)-\\tau_o}\\right]$$\n",
        "\n",
        "Here, let's consider that everything else is also constant: $\\rho(s)=\\rho_o$ and $j(s)=j_o$.\n",
        "\n",
        "Numerical values are defined in the code below. \n",
        "\n",
        ">**TODO**:\n",
        ">\n",
        "> 1. Find an expression for $\\tau(s)-\\tau_o$. Show your work.\n",
        "> 2. In the graph below, add a curve for the first term of the $I(s)$ equation. Make sure to add a legend.\n",
        "> 3. In the graph below, add a curve for the second term of the $I(s)$ equation. Make sure to add a legend.\n",
        "> 4. In the graph below, add a curve for $I(s)$ itself. Make sure to add a legend.\n",
        ">\n",
        "> Note: I have shown what the graph should look like in the class slides :)"
      ],
      "metadata": {
        "id": "NcmzOqihVaMg"
      }
    },
    {
      "cell_type": "code",
      "execution_count": null,
      "metadata": {
        "id": "irpt21DBR4rJ",
        "outputId": "dea4835a-e159-48f5-edbb-e65777291c96",
        "colab": {
          "base_uri": "https://localhost:8080/",
          "height": 311
        }
      },
      "outputs": [
        {
          "output_type": "execute_result",
          "data": {
            "text/plain": [
              "[<matplotlib.lines.Line2D at 0x7f2c8f739690>]"
            ]
          },
          "metadata": {},
          "execution_count": 6
        },
        {
          "output_type": "display_data",
          "data": {
            "image/png": "[encoded data removed]",
            "text/plain": [
              "<Figure size 648x288 with 1 Axes>"
            ]
          },
          "metadata": {
            "needs_background": "light"
          }
        }
      ],
      "source": [
        "fig, ax = plt.subplots(1,1, figsize=(9,4))\n",
        "plt.rcParams.update({'font.size': 14})\n",
        "plt.rcParams.update({'font.family': 'Times New Roman'})\n",
        "\n",
        "ax.set_ylim(0, 2)\n",
        "ax.set_xlim(-1,5)\n",
        "    \n",
        "# For the first graph, I want a patch with constant color\n",
        "cmap = plt.cm.get_cmap('Reds') # get a red scale color map\n",
        "rgba = cmap(0.5) # pick the color in the center of the color map\n",
        "#rec = mpatches.Rectangle( (0, 0), 4 , 2, fc=rgba) # Create a shaded rectangle\n",
        "ax.add_patch(mpatches.Rectangle( (0, 0), 4 , 2, fc=rgba)) # add the rectangle to the plot\n",
        "ax.text(5.2, 1, 'Observer is here', style='italic',\n",
        "        bbox={'facecolor':'red', 'pad':5})\n",
        "\n",
        "ax.set_xlabel('$s$')\n",
        "\n",
        "#---------------------------------------------------------\n",
        "# Here are the values for already defined for this problem\n",
        "    \n",
        "Io = 2\n",
        "j_rho = 0.5\n",
        "kappa_rho = 0.5\n",
        "S = j_rho / kappa_rho\n",
        "d = 4\n",
        "\n",
        "ss = np.linspace(0,4, 50)\n",
        "\n",
        "# Curve for the source function value\n",
        "source = np.array( [S]*ss.size )\n",
        "ax.plot(ss, source, ls='dotted', c='k', lw=2)\n",
        "#---------------------------------------\n",
        "#---------------------------------------\n",
        "\n",
        "\n",
        "# Optical depth\n",
        "\n",
        "\n",
        "\n",
        "# First term (if there was no emission)\n",
        "\n",
        "\n",
        "\n",
        "# Second term (if there was no initial intensity)\n",
        "\n",
        "\n",
        "\n",
        "# Intensity\n",
        "\n"
      ]
    },
    {
      "cell_type": "markdown",
      "metadata": {
        "id": "92DsGtplR4rK"
      },
      "source": [
        "> **TODO**: <font color='red'>Please write a small paragraph with an interpretation of the result obtained:</font>"
      ]
    },
    {
      "cell_type": "markdown",
      "metadata": {
        "id": "HpJYgwpeR4rK"
      },
      "source": [
        "### b. Constant source function ($S(\\tau)=So$) but linearly decreasing density\n",
        "\n",
        " > **TODO**: Re-do what we did in #2a, assuming this time that the density is decreasing linearly such that:\n",
        "$$ \\rho(s) = \\rho_o \\left( 1- \\frac{s}{d} \\right), $$ where $d$ is the length of the slab.\n",
        ">\n",
        ">Note: You can directly use some of the results from your previous notebook (e.g. for the optical depth).  "
      ]
    },
    {
      "cell_type": "code",
      "execution_count": null,
      "metadata": {
        "id": "-Eb6VlNbR4rL",
        "outputId": "d98a7840-b6ad-4c1a-ece7-54e00a064619",
        "colab": {
          "base_uri": "https://localhost:8080/",
          "height": 311
        }
      },
      "outputs": [
        {
          "output_type": "execute_result",
          "data": {
            "text/plain": [
              "[<matplotlib.lines.Line2D at 0x7f2c8f7efe50>]"
            ]
          },
          "metadata": {},
          "execution_count": 7
        },
        {
          "output_type": "display_data",
          "data": {
            "image/png": "[encoded data removed]",
            "text/plain": [
              "<Figure size 648x288 with 1 Axes>"
            ]
          },
          "metadata": {
            "needs_background": "light"
          }
        }
      ],
      "source": [
        "fig, ax = plt.subplots(1,1, figsize=(9,4))\n",
        "plt.rcParams.update({'font.size': 14})\n",
        "plt.rcParams.update({'font.family': 'Times New Roman'})\n",
        "\n",
        "ax.set_ylim(0, 2)\n",
        "ax.set_xlim(-1,5)\n",
        "\n",
        "\n",
        "# Create a patch with a gradient to illustrate\n",
        "# the change in density\n",
        "X=np.linspace(0,4,100)\n",
        "Y1=np.copy(X)*0\n",
        "Y2=np.copy(X)*0+4\n",
        "g = 1.0-np.copy(X/4)\n",
        "rainbow_fill_between(ax,X,Y1,Y2,colors=g)\n",
        "\n",
        "ax.text(5.2, 1, 'Observer is here', style='italic',\n",
        "        bbox={'facecolor':'red', 'pad':5})\n",
        "\n",
        "ax.set_xlabel('$s$')\n",
        "\n",
        "#---------------------------------------------------------\n",
        "# Here are the values for already defined for this problem\n",
        "    \n",
        "Io = 2\n",
        "j_rho = 0.5\n",
        "kappa_rho = 0.5\n",
        "S = j_rho / kappa_rho\n",
        "d = 4\n",
        "\n",
        "ss = np.linspace(0,4, 50)\n",
        "\n",
        "# Curve for the source function value\n",
        "source = np.array( [S]*ss.size )\n",
        "ax.plot(ss, source, ls='dotted', c='k', lw=2)\n",
        "#---------------------------------------\n",
        "#---------------------------------------\n",
        "\n",
        "\n"
      ]
    },
    {
      "cell_type": "markdown",
      "metadata": {
        "id": "ZnLwYXy2R4rL"
      },
      "source": [
        "**TODO**: <font color='red'>Please write a small paragraph with an interpretation of the result obtained:</font>"
      ]
    },
    {
      "cell_type": "markdown",
      "metadata": {
        "id": "GJwNOKkhR4rL"
      },
      "source": [
        "## 3. Case when the source function is not constant.\n",
        "\n",
        "Let's assume that the density and opacity in the slab are constant, such that $\\kappa_o\\rho_o=2.0$ per unit length. \n",
        "\n",
        "The source function is however a function of $\\tau$ such that:\n",
        "$$ S(\\tau) = S_0 + S_1\\tau$$\n",
        "where $S_0=0.5$ intensity unit, and $S_1=1.3$ intensity units per optical depth unit. \n",
        "\n",
        "There is no intial intensity entering the slab so $I_o = 0$.\n",
        "\n",
        "Prepare your code such that you can vary the values of the paramters in the equations above."
      ]
    },
    {
      "cell_type": "markdown",
      "source": [
        "### a. Find an expression for $I(\\tau)$.\n",
        ">**TODO**: In this case, you cannot use the expression we found for the constant source function. You will have to start back at the expression for the formal solution itself. Show your work below"
      ],
      "metadata": {
        "id": "2byBNiYTaGyX"
      }
    },
    {
      "cell_type": "markdown",
      "source": [
        "### b. On your graph add a curve for:\n",
        ">**TODO**:\n",
        ">1. the optical depth $\\tau$ as a function of $s$.\n",
        ">2. the source function $S$ as a function of $s$.\n",
        ">3. the intensity $I$ as a function of $s$. \n",
        ">\n",
        ">4. Concentrating on the side of your graph where the light exits the slab, estimate the optical depth at which the value of the source function is equal to the value of the intensity emerging from the slab. "
      ],
      "metadata": {
        "id": "BqKJj2loaf8M"
      }
    },
    {
      "cell_type": "code",
      "execution_count": null,
      "metadata": {
        "id": "xuVJsT7JR4rM",
        "outputId": "97e2e020-72c7-4af8-e545-80a818ea8b64",
        "colab": {
          "base_uri": "https://localhost:8080/",
          "height": 365
        }
      },
      "outputs": [
        {
          "output_type": "stream",
          "name": "stderr",
          "text": [
            "findfont: Font family ['Times New Roman'] not found. Falling back to DejaVu Sans.\n"
          ]
        },
        {
          "output_type": "display_data",
          "data": {
            "image/png": "[encoded data removed]",
            "text/plain": [
              "<Figure size 720x360 with 1 Axes>"
            ]
          },
          "metadata": {
            "needs_background": "light"
          }
        }
      ],
      "source": [
        "fig, ax = plt.subplots(1,1, figsize=(10,5))\n",
        "plt.rcParams.update({'font.size': 18})\n",
        "plt.rcParams.update({'font.family': 'Times New Roman'})\n",
        "\n",
        "ax.set_ylim(0, 8)\n",
        "ax.set_xlim(-1,5)\n",
        "\n",
        "# For the first graph, I want a patch with constant color\n",
        "cmap = plt.cm.get_cmap('Reds') # get a red scale color map\n",
        "rgba = cmap(0.5) # pick the color in the center of the color map\n",
        "rec = mpatches.Rectangle( (0, 0), 4 , 8, fc=rgba) # Create a shaded rectangle\n",
        "ax.add_patch(rec) # add the rectangle to the plot\n",
        "ax.text(5.2, 4, 'Observer is here', style='italic',\n",
        "        bbox={'facecolor':'red', 'pad':5})\n",
        "\n",
        "ax.set_xlabel('$s$')\n",
        "\n",
        "# Values to use\n",
        "\n",
        "d = 4\n",
        "\n",
        "Io = 0\n",
        "kappa_rho = 2.0\n",
        "\n",
        "S0 = 0.5\n",
        "S1 = 1.3\n",
        "\n",
        "ss = np.linspace(0,4, 50)\n",
        "\n",
        "#---------------------------------------\n",
        "#---------------------------------------\n",
        "# At home\n",
        "\n"
      ]
    },
    {
      "cell_type": "markdown",
      "metadata": {
        "collapsed": true,
        "id": "KKUc0BJfR4rM"
      },
      "source": [
        "> **TODO**: <font color='red'>Please write a small paragraph with an interpretation of the result obtained:</font>"
      ]
    }
  ],
  "metadata": {
    "anaconda-cloud": {},
    "kernelspec": {
      "display_name": "Python 3",
      "name": "python3"
    },
    "language_info": {
      "name": "python"
    },
    "colab": {
      "name": "10-SourceFunction.ipynb",
      "provenance": [],
      "collapsed_sections": [
        "TmhDzkYgR4rD",
        "s8M841z_TFN9",
        "-W27S5WNR4rH",
        "NcmzOqihVaMg",
        "HpJYgwpeR4rK",
        "BqKJj2loaf8M"
      ],
      "include_colab_link": true
    }
  },
  "nbformat": 4,
  "nbformat_minor": 0
}